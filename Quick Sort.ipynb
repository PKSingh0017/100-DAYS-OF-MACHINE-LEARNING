{
 "cells": [
  {
   "cell_type": "markdown",
   "metadata": {},
   "source": [
    "<h2>Quick sort</h2>"
   ]
  },
  {
   "cell_type": "code",
   "execution_count": 1,
   "metadata": {},
   "outputs": [
    {
     "name": "stdout",
     "output_type": "stream",
     "text": [
      "[3, 9, 5, 2, 8]\n",
      "[2, 3, 5, 8, 9]\n"
     ]
    }
   ],
   "source": [
    "def quick_sort(l, min, max):\n",
    "\n",
    "    if max-min <= 1:\n",
    "        return ()\n",
    "    sri = min+1\n",
    "\n",
    "    for gri in range(min+1, max):\n",
    "\n",
    "        if l[min] >= l[gri]:\n",
    "            l[sri], l[gri] = l[gri], l[sri]\n",
    "            sri += 1\n",
    "\n",
    "    l[sri-1], l[min] = l[min], l[sri-1]\n",
    "    quick_sort(l, min, sri-1)\n",
    "    quick_sort(l, sri, max)\n",
    "\n",
    "\n",
    "lst = [3, 9, 5, 2, 8]\n",
    "print(lst)\n",
    "quick_sort(lst, 0, 5)\n",
    "print(lst)\n"
   ]
  }
 ],
 "metadata": {
  "kernelspec": {
   "display_name": "Python 3",
   "language": "python",
   "name": "python3"
  },
  "language_info": {
   "codemirror_mode": {
    "name": "ipython",
    "version": 3
   },
   "file_extension": ".py",
   "mimetype": "text/x-python",
   "name": "python",
   "nbconvert_exporter": "python",
   "pygments_lexer": "ipython3",
   "version": "3.6.8"
  }
 },
 "nbformat": 4,
 "nbformat_minor": 2
}
