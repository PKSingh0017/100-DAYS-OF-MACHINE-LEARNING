{
 "cells": [
  {
   "cell_type": "markdown",
   "metadata": {},
   "source": [
    "<h2>Selection sort</h2>"
   ]
  },
  {
   "cell_type": "code",
   "execution_count": 2,
   "metadata": {},
   "outputs": [
    {
     "name": "stdout",
     "output_type": "stream",
     "text": [
      "[3, 4, 7, 9]\n"
     ]
    }
   ],
   "source": [
    "def selection_sort(l):\n",
    "\n",
    "    for start in range(len(l)):\n",
    "        min_pos = start\n",
    "\n",
    "        for i in range(start, len(l)):\n",
    "\n",
    "            if l[i] < l[min_pos]:\n",
    "                min_pos = i\n",
    "\n",
    "        l[start], l[min_pos] = l[min_pos], l[start]\n",
    "\n",
    "\n",
    "pl = [9, 4, 7, 3]\n",
    "\n",
    "selection_sort(pl)\n",
    "print(pl)\n"
   ]
  }
 ],
 "metadata": {
  "kernelspec": {
   "display_name": "Python 3",
   "language": "python",
   "name": "python3"
  },
  "language_info": {
   "codemirror_mode": {
    "name": "ipython",
    "version": 3
   },
   "file_extension": ".py",
   "mimetype": "text/x-python",
   "name": "python",
   "nbconvert_exporter": "python",
   "pygments_lexer": "ipython3",
   "version": "3.6.8"
  }
 },
 "nbformat": 4,
 "nbformat_minor": 2
}
