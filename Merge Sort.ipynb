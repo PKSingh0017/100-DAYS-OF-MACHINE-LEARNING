{
 "cells": [
  {
   "cell_type": "markdown",
   "metadata": {},
   "source": [
    "<h2>Merge Sort</h2>"
   ]
  },
  {
   "cell_type": "code",
   "execution_count": 1,
   "metadata": {},
   "outputs": [
    {
     "name": "stdout",
     "output_type": "stream",
     "text": [
      "[9, 34, 1, 12, 7]\n",
      "[1, 7, 9, 12, 34]\n"
     ]
    }
   ],
   "source": [
    "def merge(a, b):\n",
    "    (c, m, n) = ([], len(a), len(b))\n",
    "    i, j = 0, 0\n",
    "\n",
    "    while i+j < m+n:\n",
    "        if i == m:\n",
    "            c.append(b[j])\n",
    "            j += 1\n",
    "        elif j == n:\n",
    "            c.append(a[i])\n",
    "            i += 1\n",
    "        elif a[i] <= b[j]:\n",
    "            c.append(a[i])\n",
    "            i += 1\n",
    "        elif a[i] > b[j]:\n",
    "            c.append(b[j])\n",
    "            j += 1\n",
    "    return c\n",
    "\n",
    "\n",
    "def merge_sort(l, mini, maxi):\n",
    "    mid = (mini + maxi) // 2\n",
    "    if maxi-mini <= 1:\n",
    "        return l[mini:maxi]\n",
    "    else:\n",
    "        x = merge_sort(l, mini, mid)\n",
    "        y = merge_sort(l, mid, maxi)\n",
    "        return merge(x, y)\n",
    "\n",
    "\n",
    "lst = [9, 34, 1, 12, 7]\n",
    "print(lst)\n",
    "print(merge_sort(lst, 0, 5))\n"
   ]
  }
 ],
 "metadata": {
  "kernelspec": {
   "display_name": "Python 3",
   "language": "python",
   "name": "python3"
  },
  "language_info": {
   "codemirror_mode": {
    "name": "ipython",
    "version": 3
   },
   "file_extension": ".py",
   "mimetype": "text/x-python",
   "name": "python",
   "nbconvert_exporter": "python",
   "pygments_lexer": "ipython3",
   "version": "3.6.8"
  }
 },
 "nbformat": 4,
 "nbformat_minor": 2
}
