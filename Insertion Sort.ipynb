{
 "cells": [
  {
   "cell_type": "markdown",
   "metadata": {},
   "source": [
    "<h2>Insertion Sort</h2>"
   ]
  },
  {
   "cell_type": "code",
   "execution_count": 1,
   "metadata": {},
   "outputs": [
    {
     "name": "stdout",
     "output_type": "stream",
     "text": [
      "[1, 2, 5, 6, 7, 9]\n"
     ]
    }
   ],
   "source": [
    "def insertion_sort(l):\n",
    "\n",
    "    for x in range(len(l)):\n",
    "        pos = x\n",
    "\n",
    "        while pos > 0 and l[pos-1] > l[pos]:\n",
    "            l[pos-1], l[pos] = l[pos], l[pos-1]\n",
    "            pos -= 1\n",
    "\n",
    "\n",
    "list1 = [9, 2, 6, 5, 1, 7]\n",
    "insertion_sort(list1)\n",
    "print(list1)\n"
   ]
  }
 ],
 "metadata": {
  "kernelspec": {
   "display_name": "Python 3",
   "language": "python",
   "name": "python3"
  },
  "language_info": {
   "codemirror_mode": {
    "name": "ipython",
    "version": 3
   },
   "file_extension": ".py",
   "mimetype": "text/x-python",
   "name": "python",
   "nbconvert_exporter": "python",
   "pygments_lexer": "ipython3",
   "version": "3.6.8"
  }
 },
 "nbformat": 4,
 "nbformat_minor": 2
}
