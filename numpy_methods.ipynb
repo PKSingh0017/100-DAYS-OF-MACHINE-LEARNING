{
 "cells": [
  {
   "cell_type": "markdown",
   "metadata": {},
   "source": [
    "<h1>numpy</h1>"
   ]
  },
  {
   "cell_type": "markdown",
   "metadata": {},
   "source": [
    "numpy is a linear algebra library for python and \n",
    "almost all the libraries in the pydata ecosystem rely on numpy as on of their basic building blocks\n",
    "numpy is incredibly fast and has its bindings to c libraries"
   ]
  },
  {
   "cell_type": "code",
   "execution_count": 3,
   "metadata": {},
   "outputs": [],
   "source": [
    "import numpy as np"
   ]
  },
  {
   "cell_type": "markdown",
   "metadata": {},
   "source": [
    "<h3>1. Casting a normal python list into an array</h3>"
   ]
  },
  {
   "cell_type": "code",
   "execution_count": 4,
   "metadata": {},
   "outputs": [
    {
     "name": "stdout",
     "output_type": "stream",
     "text": [
      "[2, 5, 8, 3, 9, 6]\n",
      "<class 'list'>\n"
     ]
    }
   ],
   "source": [
    "lst = [2,5,8,3,9,6]\n",
    "print(lst)\n",
    "print(type(lst))"
   ]
  },
  {
   "cell_type": "code",
   "execution_count": 6,
   "metadata": {},
   "outputs": [
    {
     "name": "stdout",
     "output_type": "stream",
     "text": [
      "[2 5 8 3 9 6]\n",
      "<class 'numpy.ndarray'>\n"
     ]
    }
   ],
   "source": [
    "arr = np.array(lst)\n",
    "print(arr)\n",
    "print(type(arr))"
   ]
  },
  {
   "cell_type": "markdown",
   "metadata": {},
   "source": [
    "<h4>2D arrays</h4>"
   ]
  },
  {
   "cell_type": "code",
   "execution_count": 70,
   "metadata": {},
   "outputs": [
    {
     "name": "stdout",
     "output_type": "stream",
     "text": [
      "[[2, 6, 4], [5, 8, 1], [3, 7, 6]]\n",
      "<class 'list'>\n"
     ]
    }
   ],
   "source": [
    "lst_2d = [[2,6,4],[5,8,1,],[3,7,6]]\n",
    "print(lst_2d)\n",
    "print(type(lst_2d))"
   ]
  },
  {
   "cell_type": "code",
   "execution_count": 71,
   "metadata": {},
   "outputs": [
    {
     "name": "stdout",
     "output_type": "stream",
     "text": [
      "[[2 6 4]\n",
      " [5 8 1]\n",
      " [3 7 6]]\n",
      "<class 'numpy.ndarray'>\n"
     ]
    }
   ],
   "source": [
    "arr_2d = np.array(lst_2d)\n",
    "print(arr_2d)\n",
    "print(type(arr_2d))"
   ]
  },
  {
   "cell_type": "markdown",
   "metadata": {},
   "source": [
    "<h3>2. Creating numpy arrays</h3>"
   ]
  },
  {
   "cell_type": "markdown",
   "metadata": {},
   "source": [
    "<h4>2.1 arange() </h4>\n",
    "It can be used to create a consequtively increasing array of integers"
   ]
  },
  {
   "cell_type": "markdown",
   "metadata": {},
   "source": [
    "np.arange(lower_limit, upper_limit, stepping_value)"
   ]
  },
  {
   "cell_type": "code",
   "execution_count": 13,
   "metadata": {},
   "outputs": [
    {
     "data": {
      "text/plain": [
       "array([10, 12, 14, 16])"
      ]
     },
     "execution_count": 13,
     "metadata": {},
     "output_type": "execute_result"
    }
   ],
   "source": [
    "np.arange(10,18,2)             # lower limit is inclusive and upper limit is exclusive"
   ]
  },
  {
   "cell_type": "markdown",
   "metadata": {},
   "source": [
    "<h4>2.2 a null matrix of any size can be made using the np.zero() function using ones() and zeros() functions</h4>"
   ]
  },
  {
   "cell_type": "code",
   "execution_count": 16,
   "metadata": {},
   "outputs": [
    {
     "data": {
      "text/plain": [
       "array([0., 0., 0., 0., 0.])"
      ]
     },
     "execution_count": 16,
     "metadata": {},
     "output_type": "execute_result"
    }
   ],
   "source": [
    "np.zeros(5)"
   ]
  },
  {
   "cell_type": "code",
   "execution_count": 19,
   "metadata": {},
   "outputs": [
    {
     "data": {
      "text/plain": [
       "array([[0., 0., 0., 0., 0.],\n",
       "       [0., 0., 0., 0., 0.],\n",
       "       [0., 0., 0., 0., 0.]])"
      ]
     },
     "execution_count": 19,
     "metadata": {},
     "output_type": "execute_result"
    }
   ],
   "source": [
    "np.zeros((3,5))           # to create a 2-dimensional array the tuple (rows, columns) is to be passed as the arguement"
   ]
  },
  {
   "cell_type": "markdown",
   "metadata": {},
   "source": [
    "<h5>2.3 Same thing can be done to create a matrix with all entries as one</h5>"
   ]
  },
  {
   "cell_type": "code",
   "execution_count": 24,
   "metadata": {},
   "outputs": [
    {
     "data": {
      "text/plain": [
       "array([[1., 1., 1., 1.],\n",
       "       [1., 1., 1., 1.]])"
      ]
     },
     "execution_count": 24,
     "metadata": {},
     "output_type": "execute_result"
    }
   ],
   "source": [
    "np.ones((2,4))"
   ]
  },
  {
   "cell_type": "markdown",
   "metadata": {},
   "source": [
    "<h5>2.4 using eye() function an identity matrix can be made of specified length</h5>"
   ]
  },
  {
   "cell_type": "code",
   "execution_count": 27,
   "metadata": {},
   "outputs": [
    {
     "data": {
      "text/plain": [
       "array([[1., 0., 0., 0.],\n",
       "       [0., 1., 0., 0.],\n",
       "       [0., 0., 1., 0.],\n",
       "       [0., 0., 0., 1.]])"
      ]
     },
     "execution_count": 27,
     "metadata": {},
     "output_type": "execute_result"
    }
   ],
   "source": [
    "np.eye(4)                  # a single arguement gives a square matrix"
   ]
  },
  {
   "cell_type": "code",
   "execution_count": 95,
   "metadata": {},
   "outputs": [
    {
     "data": {
      "text/plain": [
       "array([[1., 0., 0., 0., 0.],\n",
       "       [0., 1., 0., 0., 0.],\n",
       "       [0., 0., 1., 0., 0.]])"
      ]
     },
     "execution_count": 95,
     "metadata": {},
     "output_type": "execute_result"
    }
   ],
   "source": [
    "np.eye(3,5)                #two arguements can be provided to create a 2-dimensional identity matrix"
   ]
  },
  {
   "cell_type": "markdown",
   "metadata": {},
   "source": [
    "<h4>2.3 linspace()</h4>\n",
    "Can be used to bound the entries between a given limit despite extracting any number of entries"
   ]
  },
  {
   "cell_type": "code",
   "execution_count": 23,
   "metadata": {},
   "outputs": [
    {
     "data": {
      "text/plain": [
       "array([1.        , 1.66666667, 2.33333333, 3.        , 3.66666667,\n",
       "       4.33333333, 5.        ])"
      ]
     },
     "execution_count": 23,
     "metadata": {},
     "output_type": "execute_result"
    }
   ],
   "source": [
    "np.linspace(1,5,7)            # we get total 7 outputs"
   ]
  },
  {
   "cell_type": "markdown",
   "metadata": {},
   "source": [
    "<h4>2.4 selecting entries between 0 and 1 using rand() and randn() functions</h4>"
   ]
  },
  {
   "cell_type": "code",
   "execution_count": 32,
   "metadata": {},
   "outputs": [
    {
     "data": {
      "text/plain": [
       "array([[0.07230463, 0.79686206, 0.12191939, 0.28432191],\n",
       "       [0.64198904, 0.08088477, 0.98981487, 0.40377731],\n",
       "       [0.66115606, 0.43366772, 0.54670267, 0.2048777 ],\n",
       "       [0.12519376, 0.90964707, 0.16158446, 0.46730992]])"
      ]
     },
     "execution_count": 32,
     "metadata": {},
     "output_type": "execute_result"
    }
   ],
   "source": [
    "np.random.rand(4,4)           #gives only positive entries"
   ]
  },
  {
   "cell_type": "code",
   "execution_count": 44,
   "metadata": {},
   "outputs": [
    {
     "data": {
      "text/plain": [
       "array([[-0.79367384, -0.94724569,  0.18420125],\n",
       "       [-0.11341627,  0.83062439, -0.6014296 ],\n",
       "       [ 0.52754863, -0.36195493, -0.27987289]])"
      ]
     },
     "execution_count": 44,
     "metadata": {},
     "output_type": "execute_result"
    }
   ],
   "source": [
    "np.random.randn(3,3)         # gives positive as well as negative entries"
   ]
  },
  {
   "cell_type": "code",
   "execution_count": 41,
   "metadata": {},
   "outputs": [
    {
     "name": "stdout",
     "output_type": "stream",
     "text": [
      "16\n"
     ]
    }
   ],
   "source": [
    "arr1 = np.array([2,4,67,2,4,6,45,23,5,634,2,5,7.98,67,34,54])\n",
    "print(len(arr1))"
   ]
  },
  {
   "cell_type": "markdown",
   "metadata": {},
   "source": [
    "<h4>2.5 reshape()</h4>\n",
    "the product of two arguements must equal the length of array on which the reshape function is used"
   ]
  },
  {
   "cell_type": "code",
   "execution_count": 49,
   "metadata": {},
   "outputs": [
    {
     "name": "stdout",
     "output_type": "stream",
     "text": [
      "[[  2.     4.    67.     2.  ]\n",
      " [  4.     6.    45.    23.  ]\n",
      " [  5.   634.     2.     5.  ]\n",
      " [  7.98  67.    34.    54.  ]]\n"
     ]
    }
   ],
   "source": [
    "arr2 = arr1.reshape(4,4)\n",
    "print(arr2)             # 4*4 = 16 = len(arr1)"
   ]
  },
  {
   "cell_type": "code",
   "execution_count": 113,
   "metadata": {},
   "outputs": [
    {
     "name": "stdout",
     "output_type": "stream",
     "text": [
      "[[ 0  1  2  3  4  5  6  7  8  9]\n",
      " [10 11 12 13 14 15 16 17 18 19]\n",
      " [20 21 22 23 24 25 26 27 28 29]\n",
      " [30 31 32 33 34 35 36 37 38 39]\n",
      " [40 41 42 43 44 45 46 47 48 49]]\n"
     ]
    }
   ],
   "source": [
    "arr2_2D = np.arange(50).reshape(5,10)\n",
    "print(arr2_2D)"
   ]
  },
  {
   "cell_type": "markdown",
   "metadata": {},
   "source": [
    "<h4>2.6 Finding maximum and minimum value of any array</h4>\n",
    "These functions doesn't apply on 2-dimensional arrays"
   ]
  },
  {
   "cell_type": "code",
   "execution_count": 55,
   "metadata": {},
   "outputs": [
    {
     "name": "stdout",
     "output_type": "stream",
     "text": [
      "634.0\n",
      "2.0\n",
      "9\n",
      "0\n"
     ]
    }
   ],
   "source": [
    "print(max(arr1))\n",
    "print(min(arr1))\n",
    "print(arr1.argmax())\n",
    "print(arr1.argmin())                      "
   ]
  },
  {
   "cell_type": "markdown",
   "metadata": {},
   "source": [
    "<h4>2.7 randint()</h4>"
   ]
  },
  {
   "cell_type": "code",
   "execution_count": 11,
   "metadata": {},
   "outputs": [
    {
     "name": "stdout",
     "output_type": "stream",
     "text": [
      "[ 3  3 10  9 12  7  7 15  5 18 13 13  5  1  7 13  8  3 17 15 14 17 10 16\n",
      "  1]\n",
      "int64\n"
     ]
    }
   ],
   "source": [
    "arr3 = np.random.randint(1,20,25)             #doesn't include the upper limit (20 in this case)\n",
    "print(arr3)\n",
    "print(arr3.dtype)                             #to pirnt the actual datatype of the terms in array we use dtype"
   ]
  },
  {
   "cell_type": "markdown",
   "metadata": {},
   "source": [
    "<h3>3. Slicing of arrays</h3>\n",
    "its exactly same as the slicing of list"
   ]
  },
  {
   "cell_type": "code",
   "execution_count": 56,
   "metadata": {},
   "outputs": [
    {
     "name": "stdout",
     "output_type": "stream",
     "text": [
      "[ 4  7  2  9  5  6 10]\n",
      "[ 7  2  9  5  6 10]\n",
      "[4 7 2 9 5 6]\n",
      "[ 4  7  2  9  5  6 10]\n"
     ]
    }
   ],
   "source": [
    "arr4 = np.array([4,7,2,9,5,6,10])\n",
    "print(arr4[0:len(arr4)])                       #prints all the values of the array\n",
    "print(arr4[1:8])                               #prints value starting from index 1 upto index 7(excluding arr[8])\n",
    "print(arr4[:6])                                #if nothing spsecified at left of colon it starts from the first element\n",
    "print(arr4[:])                                 #if nothing specified at the right thrn it prints upto last element"
   ]
  },
  {
   "cell_type": "markdown",
   "metadata": {},
   "source": [
    "but if any change is made in any slice of the array, it affects the original array"
   ]
  },
  {
   "cell_type": "code",
   "execution_count": 51,
   "metadata": {},
   "outputs": [
    {
     "name": "stdout",
     "output_type": "stream",
     "text": [
      "[222 222 222]\n",
      "[  4 222 222 222   5   6  10]\n"
     ]
    }
   ],
   "source": [
    "array_slice = arr4[1:4]\n",
    "print(array_slice)\n",
    "array_slice[:] = 222\n",
    "print(arr4)"
   ]
  },
  {
   "cell_type": "markdown",
   "metadata": {},
   "source": [
    "to do something like that we need to make a fresh copy of the slice"
   ]
  },
  {
   "cell_type": "code",
   "execution_count": 72,
   "metadata": {},
   "outputs": [
    {
     "name": "stdout",
     "output_type": "stream",
     "text": [
      "[888 888 888]\n",
      "[ 4  7  2  9  5  6 10]\n"
     ]
    }
   ],
   "source": [
    "array_slice2 = arr4[1:4].copy()               #this makes a fresh copy of that slice of the array\n",
    "array_slice2[:] = 888\n",
    "print(array_slice2)\n",
    "print(arr4)                                   #this doesn't affect teh parent array"
   ]
  },
  {
   "cell_type": "markdown",
   "metadata": {},
   "source": [
    "<h4>slicing might can also be done in 2-dimensional array</h4>"
   ]
  },
  {
   "cell_type": "code",
   "execution_count": 82,
   "metadata": {},
   "outputs": [
    {
     "data": {
      "text/plain": [
       "array([[12, 43, 32, 21, 24],\n",
       "       [38, 24,  6, 67, 85],\n",
       "       [32, 76, 86, 13, 54],\n",
       "       [23, 45, 92, 18, 28],\n",
       "       [10, 20, 64, 59, 13]])"
      ]
     },
     "execution_count": 82,
     "metadata": {},
     "output_type": "execute_result"
    }
   ],
   "source": [
    "a = np.array([[12,43,32,21,24], [38,24,6,67,85],[32,76,86,13,54],[23,45,92,18,28],[10,20,64,59,13]])\n",
    "a"
   ]
  },
  {
   "cell_type": "code",
   "execution_count": 89,
   "metadata": {},
   "outputs": [
    {
     "name": "stdout",
     "output_type": "stream",
     "text": [
      "54\n",
      "54\n",
      "[[ 6 67]\n",
      " [86 13]]\n"
     ]
    }
   ],
   "source": [
    "print(a[2,4])                                   #it will access any element of the 2d array -- a[row_index, column_index]\n",
    "print(a[2][4])                                  #prints same as a[2,4]\n",
    "print(a[1:3,2:4])                               #a slice of rows or column may also be passed"
   ]
  },
  {
   "cell_type": "markdown",
   "metadata": {},
   "source": [
    "<h3>4. Boolean array</h3>\n",
    "we can create a boolean array by comparing each element with a value"
   ]
  },
  {
   "cell_type": "code",
   "execution_count": 108,
   "metadata": {},
   "outputs": [
    {
     "data": {
      "text/plain": [
       "array([6, 8, 6, 3, 9, 8, 1, 1, 6])"
      ]
     },
     "execution_count": 108,
     "metadata": {},
     "output_type": "execute_result"
    }
   ],
   "source": [
    "a1 = np.random.randint(1,10,9)\n",
    "a1"
   ]
  },
  {
   "cell_type": "code",
   "execution_count": 114,
   "metadata": {},
   "outputs": [
    {
     "name": "stdout",
     "output_type": "stream",
     "text": [
      "[6 8 6 3 9 8 1 1 6]\n",
      "[False  True False False  True  True False False False]\n",
      "[8 9 8]\n"
     ]
    }
   ],
   "source": [
    "print(a1)\n",
    "a2 = a1 > 6                                     #this is a boolean array \n",
    "print(a2)                                       \n",
    "print(a1[a2])                                   #this will print the values which are greater than 6 in the array a1"
   ]
  },
  {
   "cell_type": "markdown",
   "metadata": {},
   "source": [
    "all the mathematical operations can be done on the matrices and also matrix and scalar"
   ]
  },
  {
   "cell_type": "code",
   "execution_count": null,
   "metadata": {},
   "outputs": [],
   "source": []
  },
  {
   "cell_type": "code",
   "execution_count": null,
   "metadata": {},
   "outputs": [],
   "source": []
  },
  {
   "cell_type": "code",
   "execution_count": null,
   "metadata": {},
   "outputs": [],
   "source": []
  }
 ],
 "metadata": {
  "kernelspec": {
   "display_name": "Python 3",
   "language": "python",
   "name": "python3"
  },
  "language_info": {
   "codemirror_mode": {
    "name": "ipython",
    "version": 3
   },
   "file_extension": ".py",
   "mimetype": "text/x-python",
   "name": "python",
   "nbconvert_exporter": "python",
   "pygments_lexer": "ipython3",
   "version": "3.6.8"
  }
 },
 "nbformat": 4,
 "nbformat_minor": 2
}
